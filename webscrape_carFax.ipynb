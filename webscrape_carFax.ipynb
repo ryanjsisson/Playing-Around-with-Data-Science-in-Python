{
 "cells": [
  {
   "cell_type": "code",
   "execution_count": 9,
   "metadata": {},
   "outputs": [],
   "source": [
    "from selenium import webdriver\n",
    "import selenium\n",
    "import time\n",
    "from selenium.webdriver.support.ui import Select"
   ]
  },
  {
   "cell_type": "code",
   "execution_count": 39,
   "metadata": {},
   "outputs": [],
   "source": [
    "driver = webdriver.Chrome(executable_path='C:\\\\RJS\\\\Development\\\\webdrivers\\\\chromedriver')\n",
    "driver.get('https://carfax.com')"
   ]
  },
  {
   "cell_type": "code",
   "execution_count": 40,
   "metadata": {},
   "outputs": [],
   "source": [
    "used_car_button = driver.find_element_by_xpath('//a[@class=\"button button--green\"]')\n",
    "used_car_button.click()"
   ]
  },
  {
   "cell_type": "code",
   "execution_count": 41,
   "metadata": {},
   "outputs": [],
   "source": [
    "body_type_and_price_tab = driver.find_element_by_xpath('//a[@href=\"#makeModelPanel\"]')\n",
    "body_type_and_price_tab.click()"
   ]
  },
  {
   "cell_type": "code",
   "execution_count": 42,
   "metadata": {},
   "outputs": [],
   "source": [
    "make = driver.find_element_by_xpath('//*[@id=\"make_Toyota\"]')\n",
    "make.click()"
   ]
  },
  {
   "cell_type": "code",
   "execution_count": 43,
   "metadata": {},
   "outputs": [],
   "source": [
    "model = driver.find_element_by_xpath('//*[@id=\"model_Camry\"]')\n",
    "model.click()"
   ]
  },
  {
   "cell_type": "code",
   "execution_count": 44,
   "metadata": {},
   "outputs": [],
   "source": [
    "zip_code = driver.find_element_by_xpath('//input[@name=\"zip\"]')\n",
    "zip_code.send_keys('92071')"
   ]
  },
  {
   "cell_type": "code",
   "execution_count": 45,
   "metadata": {},
   "outputs": [],
   "source": [
    "entries_button = driver.find_element_by_xpath('//*[@id=\"make-model-form-submit\"]')\n",
    "entries_button.click()"
   ]
  },
  {
   "cell_type": "code",
   "execution_count": 46,
   "metadata": {},
   "outputs": [],
   "source": [
    "no_accidents = driver.find_element_by_xpath('//*[@id=\"react-app-main\"]/div/div[2]/div/div/div[1]/div[3]/div[1]/div[1]/div[2]/ul/li[1]/label/span[2]')\n",
    "no_accidents.click()"
   ]
  },
  {
   "cell_type": "code",
   "execution_count": 51,
   "metadata": {},
   "outputs": [],
   "source": [
    "personal_use = driver.find_element_by_xpath('//*[@id=\"react-app-main\"]/div/div[2]/div/div/div[1]/div[3]/div[1]/div[1]/div[2]/ul/li[3]/label/span[2]')\n",
    "personal_use.click()"
   ]
  },
  {
   "cell_type": "code",
   "execution_count": 52,
   "metadata": {},
   "outputs": [],
   "source": [
    "service_history = driver.find_element_by_xpath('//*[@id=\"react-app-main\"]/div/div[2]/div/div/div[1]/div[3]/div[1]/div[1]/div[2]/ul/li[4]/label/span[1]')\n",
    "service_history.click()"
   ]
  },
  {
   "cell_type": "code",
   "execution_count": 53,
   "metadata": {},
   "outputs": [],
   "source": [
    "show_results = driver.find_element_by_xpath('//*[@id=\"react-app-main\"]/div/div[2]/div/div/div[1]/div[3]/div[1]/div[1]/div[2]/footer/div/button')\n",
    "show_results.click()"
   ]
  },
  {
   "cell_type": "code",
   "execution_count": 54,
   "metadata": {},
   "outputs": [],
   "source": [
    "driver.close()"
   ]
  }
 ],
 "metadata": {
  "kernelspec": {
   "display_name": "Python 3",
   "language": "python",
   "name": "python3"
  },
  "language_info": {
   "codemirror_mode": {
    "name": "ipython",
    "version": 3
   },
   "file_extension": ".py",
   "mimetype": "text/x-python",
   "name": "python",
   "nbconvert_exporter": "python",
   "pygments_lexer": "ipython3",
   "version": "3.7.6"
  }
 },
 "nbformat": 4,
 "nbformat_minor": 4
}
